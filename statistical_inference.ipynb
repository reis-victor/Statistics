{
  "nbformat": 4,
  "nbformat_minor": 0,
  "metadata": {
    "colab": {
      "name": "statistical-inference.ipynb",
      "provenance": [],
      "collapsed_sections": []
    },
    "kernelspec": {
      "name": "python3",
      "display_name": "Python 3"
    }
  },
  "cells": [
    {
      "cell_type": "markdown",
      "metadata": {
        "id": "YjRgB3wD1tjv",
        "colab_type": "text"
      },
      "source": [
        "Known σ (standard deviation): Normal Distribution "
      ]
    },
    {
      "cell_type": "code",
      "metadata": {
        "id": "Su0ucIaZ1ls5",
        "colab_type": "code",
        "colab": {}
      },
      "source": [
        "import math\n",
        "\n",
        "x_bar =  None            # x̄ = sample mean\n",
        "sigma =  None            # σ =  standard deviation\n",
        "variance = None          # σ² = variance\n",
        "z =  None                # critical value: confidence level/2\n",
        "n =  None                # sample \n",
        "N =  None                # population\n",
        "MOE =  None              # margin of error\n",
        "\n",
        "# Calculates standard deviation based on variance \n",
        "if sigma == None or variance != None:\n",
        "  sigma=math.sqrt(variance)\n",
        "  variance=sigma**2\n",
        "\n",
        "# Calculates sample (infinite population)\n",
        "if n == None and N == None:\n",
        "  n=math.ceil(((z*sigma)/MOE)**2)\n",
        "  print (\"n(sample):\",n)\n",
        "\n",
        "# Calculates sample (finite population)\n",
        "if n == None or N != None:\n",
        "   variance=sigma**2\n",
        "   n = math.ceil((N*variance*(z**2))/((N-1)*(MOE**2)+(variance*(z**2))))\n",
        "   print (\"n(sample):\",n)\n",
        "\n",
        "# Calculates Margin of error and confidence interval \n",
        "if x_bar != None:\n",
        "  if n != None or MOE == None:\n",
        "    E = z*(sigma/math.sqrt(n))\n",
        "    ic = x_bar-MOE #Lower CI \n",
        "    ic2 = x_bar+MOE #Higher CI\n",
        "    print (\"MOE(Margin of error):\",MOE)\n",
        "    print (\"CI(Confidence interval):\",ic,\";\",ic2)\n",
        "# Calculates sample and rounds it upward to its nearest integer\n",
        "  else:\n",
        "    n = math.ceil(((z*sigma)/MOE)**2)\n",
        "    print (\"n(samplel):\",n)"
      ],
      "execution_count": null,
      "outputs": []
    },
    {
      "cell_type": "markdown",
      "metadata": {
        "id": "lnCjcpKRe4zt",
        "colab_type": "text"
      },
      "source": [
        "Unknown σ (standard deviation): Student's-t Distribution"
      ]
    },
    {
      "cell_type": "code",
      "metadata": {
        "id": "fP1zJHh6e-fI",
        "colab_type": "code",
        "colab": {}
      },
      "source": [
        "import math\n",
        "\n",
        "x_bar = None             # x̄ = sample mean\n",
        "s = None                 # sample standard deviation\n",
        "p_hat = None             # p̂ = sample proportion: x successes/ n sample | 0.5 if unknown\n",
        "z =  None                # critical value: confidence level/2\n",
        "t =  None                # critical value: degrees of freedom (n-1) and α/2\n",
        "n =  None                # sample \n",
        "N =  None                # population\n",
        "MOE =  None              # margin of error\n",
        "\n",
        "\n",
        "\n",
        "if p_hat != None:\n",
        "# Calculates sample and rounds it upward to its nearest integer (finite and known population)\n",
        "  if N != None:\n",
        "    n=math.ceil((N*p_hat*(1-p_hat)*(z**2))/((p_hat*(1-p_hat)*(z**2))+(N-1)*(MOE**2)))\n",
        "    print (\"n(sample):\",n)\n",
        "# sample and rounds it upward to its nearest integer (infinite and known population)\n",
        "  if n == None:\n",
        "    n=math.ceil(((z**2)*p_hat*(1-p_hat))/MOE**2)\n",
        "    print (\"n(sample):\",n)\n",
        "\n",
        "\n",
        "# Calculates the sample Margin of Error and Confidence Interval (infinite and unknown population)\n",
        "if t != None:\n",
        "  if p_hat == None:\n",
        "    E=t*(s/math.sqrt(n))\n",
        "    ic = x_bar-MOE #Lower CI\n",
        "    ic2 = x_bar+MOE #Higher CI\n",
        "    print (\"MOE(Margin of Error):\",MOE)\n",
        "    print (\"IC(Confidence Interval):\",ic,\";\",ic2)\n",
        "else:\n",
        "# Calculates the proportion Margin of Error and Confidence Interval\n",
        "    E=z*math.sqrt((p_hat*(1-p_hat))/n)\n",
        "    ic = p_hat-MOE #Lower CI\n",
        "    ic2 = p_hat+MOE #Higher CI\n",
        "    print (\"MOE(Margin of Error):\",MOE)\n",
        "    print (\"IC(Confidence Interval):\",ic,\";\",ic2)\n",
        "\n",
        " \n",
        "\n",
        "\n"
      ],
      "execution_count": null,
      "outputs": []
    }
  ]
}